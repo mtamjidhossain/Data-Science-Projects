{
  "nbformat": 4,
  "nbformat_minor": 0,
  "metadata": {
    "colab": {
      "name": "Landmark Detection App.ipynb",
      "provenance": []
    },
    "kernelspec": {
      "display_name": "Python 3",
      "name": "python3"
    },
    "language_info": {
      "name": "python"
    }
  },
  "cells": [
    {
      "cell_type": "code",
      "metadata": {
        "id": "01FDzVDZiPAL",
        "colab": {
          "base_uri": "https://localhost:8080/"
        },
        "outputId": "da9b004f-4c80-40fb-8917-96b450a6b909"
      },
      "source": [
        "!pip install -q gradio"
      ],
      "execution_count": null,
      "outputs": [
        {
          "output_type": "stream",
          "name": "stdout",
          "text": [
            "\u001b[K     |████████████████████████████████| 3.4 MB 5.0 MB/s \n",
            "\u001b[K     |████████████████████████████████| 206 kB 58.9 MB/s \n",
            "\u001b[K     |████████████████████████████████| 1.9 MB 45.2 MB/s \n",
            "\u001b[K     |████████████████████████████████| 63 kB 2.0 MB/s \n",
            "\u001b[K     |████████████████████████████████| 961 kB 62.7 MB/s \n",
            "\u001b[K     |████████████████████████████████| 3.0 MB 44.5 MB/s \n",
            "\u001b[?25h  Building wheel for ffmpy (setup.py) ... \u001b[?25l\u001b[?25hdone\n",
            "  Building wheel for flask-cachebuster (setup.py) ... \u001b[?25l\u001b[?25hdone\n"
          ]
        }
      ]
    },
    {
      "cell_type": "code",
      "metadata": {
        "id": "FMqFgH-lifcC"
      },
      "source": [
        "import numpy as np\n",
        "import pandas as pd\n",
        "import matplotlib.pyplot as plt\n",
        "import gradio as gr\n",
        "import PIL.Image as Image\n",
        "import tensorflow as tf\n",
        "import tensorflow_hub as hub"
      ],
      "execution_count": null,
      "outputs": []
    },
    {
      "cell_type": "code",
      "metadata": {
        "id": "oOveTyIZi4YO"
      },
      "source": [
        "tf_model_url = 'https://tfhub.dev/google/on_device_vision/classifier/landmarks_classifier_asia_V1/1'\n",
        "label_map_url = 'https://www.gstatic.com/aihub/tfhub/labelmaps/landmarks_classifier_asia_V1_label_map.csv'\n",
        "image_shape= (321, 321)"
      ],
      "execution_count": null,
      "outputs": []
    },
    {
      "cell_type": "code",
      "metadata": {
        "id": "CDo2hWk6orUx"
      },
      "source": [
        "# import layers from model url\n",
        "classifier = tf.keras.Sequential([hub.KerasLayer(tf_model_url, \n",
        "                                                 input_shape= image_shape + (3,),                  #can only concatenate tuple with tuple\n",
        "                                                 output_key= 'predictions:logits')])"
      ],
      "execution_count": null,
      "outputs": []
    },
    {
      "cell_type": "code",
      "metadata": {
        "id": "nW5bOx6iHLqt"
      },
      "source": [
        "df = pd.read_csv(label_map_url)"
      ],
      "execution_count": null,
      "outputs": []
    },
    {
      "cell_type": "code",
      "metadata": {
        "colab": {
          "base_uri": "https://localhost:8080/",
          "height": 142
        },
        "id": "nE77CB76HQv3",
        "outputId": "e8e627c0-988e-474d-c663-c04acec4919c"
      },
      "source": [
        "df.head(3)"
      ],
      "execution_count": null,
      "outputs": [
        {
          "output_type": "execute_result",
          "data": {
            "text/html": [
              "<div>\n",
              "<style scoped>\n",
              "    .dataframe tbody tr th:only-of-type {\n",
              "        vertical-align: middle;\n",
              "    }\n",
              "\n",
              "    .dataframe tbody tr th {\n",
              "        vertical-align: top;\n",
              "    }\n",
              "\n",
              "    .dataframe thead th {\n",
              "        text-align: right;\n",
              "    }\n",
              "</style>\n",
              "<table border=\"1\" class=\"dataframe\">\n",
              "  <thead>\n",
              "    <tr style=\"text-align: right;\">\n",
              "      <th></th>\n",
              "      <th>id</th>\n",
              "      <th>name</th>\n",
              "    </tr>\n",
              "  </thead>\n",
              "  <tbody>\n",
              "    <tr>\n",
              "      <th>0</th>\n",
              "      <td>0</td>\n",
              "      <td>Bagha Shahi Mosque</td>\n",
              "    </tr>\n",
              "    <tr>\n",
              "      <th>1</th>\n",
              "      <td>1</td>\n",
              "      <td>City Palace</td>\n",
              "    </tr>\n",
              "    <tr>\n",
              "      <th>2</th>\n",
              "      <td>2</td>\n",
              "      <td>The Immaculate Conception Cathedral of Cubao</td>\n",
              "    </tr>\n",
              "  </tbody>\n",
              "</table>\n",
              "</div>"
            ],
            "text/plain": [
              "   id                                          name\n",
              "0   0                            Bagha Shahi Mosque\n",
              "1   1                                   City Palace\n",
              "2   2  The Immaculate Conception Cathedral of Cubao"
            ]
          },
          "metadata": {},
          "execution_count": 6
        }
      ]
    },
    {
      "cell_type": "code",
      "metadata": {
        "id": "DRjICXPyHY9E"
      },
      "source": [
        "# dict mapping as keys are the ids and values are the monuments\n",
        "label_map = dict(zip(df.id, df.name))\n",
        "label_map"
      ],
      "execution_count": null,
      "outputs": []
    },
    {
      "cell_type": "code",
      "metadata": {
        "id": "Fx0YtThVJ9uX"
      },
      "source": [
        "img_loc= '/content/IMG_20180104_170608.jpg'\n",
        "img = Image.open(img_loc).resize(image_shape)\n",
        "img"
      ],
      "execution_count": null,
      "outputs": []
    },
    {
      "cell_type": "code",
      "metadata": {
        "colab": {
          "base_uri": "https://localhost:8080/"
        },
        "id": "uuOzpvQbKVc9",
        "outputId": "8317cc9d-b4a4-414a-d5e1-72d855530001"
      },
      "source": [
        "# intensity values have to be in 0-1 (model requirement)\n",
        "img = np.array(img) / 255.0\n",
        "img.shape"
      ],
      "execution_count": null,
      "outputs": [
        {
          "output_type": "execute_result",
          "data": {
            "text/plain": [
              "(321, 321, 3)"
            ]
          },
          "metadata": {},
          "execution_count": 9
        }
      ]
    },
    {
      "cell_type": "code",
      "metadata": {
        "colab": {
          "base_uri": "https://localhost:8080/"
        },
        "id": "rS-WtjAiK4VZ",
        "outputId": "545ed847-17bf-4692-c5c6-e38e5bde60da"
      },
      "source": [
        "# one prediction at a time : add new axis at the start\n",
        "img = img[np.newaxis, ...]\n",
        "img.shape"
      ],
      "execution_count": null,
      "outputs": [
        {
          "output_type": "execute_result",
          "data": {
            "text/plain": [
              "(1, 321, 321, 3)"
            ]
          },
          "metadata": {},
          "execution_count": 10
        }
      ]
    },
    {
      "cell_type": "code",
      "metadata": {
        "colab": {
          "base_uri": "https://localhost:8080/"
        },
        "id": "I3Lm0oOXMMsR",
        "outputId": "98ce1d75-92e9-4a5d-b968-73076fd8622e"
      },
      "source": [
        "# prediction\n",
        "result = classifier.predict(img)\n",
        "result                                                 #shows list of probablility values"
      ],
      "execution_count": null,
      "outputs": [
        {
          "output_type": "execute_result",
          "data": {
            "text/plain": [
              "array([[ 0.11734014,  0.06656237,  0.21670969, ...,  0.21727484,\n",
              "        -0.04035402,  0.10864833]], dtype=float32)"
            ]
          },
          "metadata": {},
          "execution_count": 11
        }
      ]
    },
    {
      "cell_type": "code",
      "metadata": {
        "colab": {
          "base_uri": "https://localhost:8080/"
        },
        "id": "pglnbW3CNCqL",
        "outputId": "fcbb2ef8-cb9d-4914-b215-36de941e60d6"
      },
      "source": [
        "# model has been trained on 98960 classes\n",
        "result.shape"
      ],
      "execution_count": null,
      "outputs": [
        {
          "output_type": "execute_result",
          "data": {
            "text/plain": [
              "(1, 98960)"
            ]
          },
          "metadata": {},
          "execution_count": 12
        }
      ]
    },
    {
      "cell_type": "code",
      "metadata": {
        "colab": {
          "base_uri": "https://localhost:8080/",
          "height": 35
        },
        "id": "P2jleCBbNNh3",
        "outputId": "4fabb1af-5d0a-4eb7-d012-b29ed8a5cea3"
      },
      "source": [
        "# show name of the max probability value monument\n",
        "label_map[np.argmax(result)]"
      ],
      "execution_count": null,
      "outputs": [
        {
          "output_type": "execute_result",
          "data": {
            "application/vnd.google.colaboratory.intrinsic+json": {
              "type": "string"
            },
            "text/plain": [
              "'Petronas Twin Towers'"
            ]
          },
          "metadata": {},
          "execution_count": 13
        }
      ]
    },
    {
      "cell_type": "markdown",
      "metadata": {
        "id": "PWE_pWFcOcbB"
      },
      "source": [
        "## WebApp: Gradio"
      ]
    },
    {
      "cell_type": "code",
      "metadata": {
        "id": "d6BF8nxURLSR"
      },
      "source": [
        "class_names=list(label_map.values())"
      ],
      "execution_count": null,
      "outputs": []
    },
    {
      "cell_type": "code",
      "metadata": {
        "id": "HkPlmq9dNgL1"
      },
      "source": [
        "# backend code for webapp\n",
        "def classify_image(image):\n",
        "    img = np.array(image)/255.0\n",
        "    img = img[np.newaxis, ...]\n",
        "    prediction = classifier.predict(img)\n",
        "    return label_map[np.argmax(prediction)]"
      ],
      "execution_count": null,
      "outputs": []
    },
    {
      "cell_type": "code",
      "metadata": {
        "colab": {
          "base_uri": "https://localhost:8080/",
          "height": 588
        },
        "id": "1x_8cBwcOjme",
        "outputId": "a65b64c7-0ef5-40af-82e7-609c58d35379"
      },
      "source": [
        "# web interface\n",
        "image = gr.inputs.Image(shape=(321, 321))\n",
        "label = gr.outputs.Label(num_top_classes=3)\n",
        "\n",
        "gr.Interface(\n",
        "    classify_image, \n",
        "    image, \n",
        "    label,\n",
        "    capture_session=True).launch(debug=True);"
      ],
      "execution_count": null,
      "outputs": [
        {
          "output_type": "stream",
          "name": "stdout",
          "text": [
            "Colab notebook detected. This cell will run indefinitely so that you can see errors and logs. To turn off, set debug=False in launch().\n",
            "This share link will expire in 24 hours. If you need a permanent link, visit: https://gradio.app/introducing-hosted (NEW!)\n",
            "Running on External URL: https://19638.gradio.app\n",
            "Interface loading below...\n"
          ]
        },
        {
          "output_type": "display_data",
          "data": {
            "text/html": [
              "\n",
              "        <iframe\n",
              "            width=\"900\"\n",
              "            height=\"500\"\n",
              "            src=\"https://19638.gradio.app\"\n",
              "            frameborder=\"0\"\n",
              "            allowfullscreen\n",
              "        ></iframe>\n",
              "        "
            ],
            "text/plain": [
              "<IPython.lib.display.IFrame at 0x7fb284af5290>"
            ]
          },
          "metadata": {}
        }
      ]
    }
  ]
}